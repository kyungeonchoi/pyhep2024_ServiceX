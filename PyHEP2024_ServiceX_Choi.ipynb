{
 "cells": [
  {
   "cell_type": "markdown",
   "metadata": {},
   "source": [
    "<h1 style=\"text-align: center;\">\n",
    "    <img src=\"img/logo_servicex.png\" width=\"70\" height=\"70\"  style=\"float:left\" alt=\"ServiceX\">\n",
    "    <img src=\"img/logo_ut.png\" width=\"150\" height=\"100\"  style=\"float:right\" alt=\"UT Austin\">\n",
    "    The new Python client library of ServiceX, the novel data delivery system\n",
    "</h1>"
   ]
  },
  {
   "cell_type": "markdown",
   "metadata": {},
   "source": [
    "<h4 style=\"text-align: center;\">KyungEon Choi (UT Austin) for ServiceX team (IRIS-HEP)</h4>\n",
    "\n",
    "<h4 style=\"text-align: center;\">PyHEP 2024 (July 1, 2024)</h4>"
   ]
  },
  {
   "cell_type": "markdown",
   "metadata": {},
   "source": [
    "<br>\n",
    "\n",
    "</br>"
   ]
  },
  {
   "cell_type": "markdown",
   "metadata": {},
   "source": [
    "<h2> ServiceX</h2>"
   ]
  },
  {
   "cell_type": "markdown",
   "metadata": {},
   "source": [
    "<font size=\"3\">\n",
    "ServiceX is a scalable data extraction, transformation and delivery system deployed in a Kubernetes cluster. "
   ]
  },
  {
   "cell_type": "markdown",
   "metadata": {},
   "source": [
    "<p style=\"text-align:center;\"> <img src=\"img/ServiceXDiagram2.png\" width=\"1100\" alt=\"ServiceX\"></p>"
   ]
  },
  {
   "cell_type": "markdown",
   "metadata": {},
   "source": [
    "<font size=\"3\">\n",
    "\n",
    "- <span style=\"color:#FF6E33;\">Event data</span></b>\n",
    "    - ServiceX delivers from grid or remote XRootD storage to the user. Or more precisely ServiceX writes into an object store (ServiceX internal storage) and users download files or URLs from the object store as soon as available.\n",
    "    - Thickness of arrows reflect the amount of data over a wire. ServiceX is NOT designed to download full data from grids. Transformers effectively reduce data that will be delivered to user based on a query for selection and filtering.\n",
    "    - ServiceX is often co-located with a grid site to maximize network bandwith. XCache is preferable to allow much faster read for frequently accessed datasets.\n",
    "- <span style=\"color:red;\">Transformer</span></b>\n",
    "    - ServiceX consists of multiple microservices that are deployed as static K8s pod (always \"running\" state) but transformers are dynamically created via HPA (Horizontal Pod Scaling)\n",
    "    - A transformer pod runs on a file at a time and number of transformer pods are scaled up and down depending on the number of input files in the dataset and other criteria.\n",
    "- ServiceX Request\n",
    "    - ServiceX request(s) is(are) made from the <span style=\"color:blue;\">SerivceX client libary</span> to ServiceX Web API via HTTP request\n",
    "    - A ServiceX request takes one input dataset (or list of files) and ServiceX is happily scale transformer pods automatically. A dataset with a single file should work but it's much more desirable to utilize HPA.\n",
    "    - Users can make ServiceX request anywhere only with Python ServiceX client library and <code>servicex.yaml</code> includes an access token. Thus it's perfectly fine to deliver data to a university cluster or a laptop for small tests."
   ]
  },
  {
   "cell_type": "markdown",
   "metadata": {},
   "source": [
    "<font size=\"3\">\n",
    "\n",
    "<h4>ServiceX Webpage</h4>\n",
    "\n",
    "- Users can easily download a ServiceX configuration file (<code>servicex.yaml</code>) from the ServiceX website\n",
    "- The ServiceX endpoint <code>servicex.af.uchicago.edu</code> is limited to the ATLAS users as it provides an access to the ATLAS event data\n",
    "\n",
    "<p style=\"text-align:center;\"><img src=\"img/servicex_web.png\" width=\"900\" alt=\"ServiceX Web\"></p>\n",
    "\n",
    "<br>\n",
    "\n",
    "\n",
    "</br>"
   ]
  },
  {
   "cell_type": "markdown",
   "metadata": {},
   "source": [
    "<h2>ServiceX Client library</h2>"
   ]
  },
  {
   "cell_type": "markdown",
   "metadata": {},
   "source": [
    "<font size=\"3\">\n",
    "\n",
    "Design goals\n",
    "- Minimal boilerplates\n",
    "- ServiceX DataBinder "
   ]
  },
  {
   "cell_type": "code",
   "execution_count": 1,
   "metadata": {},
   "outputs": [],
   "source": [
    "import servicex"
   ]
  },
  {
   "cell_type": "code",
   "execution_count": null,
   "metadata": {},
   "outputs": [],
   "source": []
  },
  {
   "cell_type": "markdown",
   "metadata": {},
   "source": [
    "Typed"
   ]
  },
  {
   "cell_type": "markdown",
   "metadata": {},
   "source": [
    "aa"
   ]
  },
  {
   "cell_type": "code",
   "execution_count": null,
   "metadata": {},
   "outputs": [],
   "source": []
  },
  {
   "cell_type": "code",
   "execution_count": null,
   "metadata": {},
   "outputs": [],
   "source": []
  },
  {
   "cell_type": "code",
   "execution_count": null,
   "metadata": {},
   "outputs": [],
   "source": []
  },
  {
   "cell_type": "code",
   "execution_count": null,
   "metadata": {},
   "outputs": [],
   "source": []
  }
 ],
 "metadata": {
  "kernelspec": {
   "display_name": "Python 3 (ipykernel)",
   "language": "python",
   "name": "python3"
  },
  "language_info": {
   "codemirror_mode": {
    "name": "ipython",
    "version": 3
   },
   "file_extension": ".py",
   "mimetype": "text/x-python",
   "name": "python",
   "nbconvert_exporter": "python",
   "pygments_lexer": "ipython3",
   "version": "3.10.0"
  }
 },
 "nbformat": 4,
 "nbformat_minor": 4
}
